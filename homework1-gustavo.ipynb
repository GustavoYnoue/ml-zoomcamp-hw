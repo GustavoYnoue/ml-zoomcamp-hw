{
 "cells": [
  {
   "cell_type": "markdown",
   "id": "40b609f3-42fd-4256-a7eb-b82cb391445b",
   "metadata": {},
   "source": [
    "## Session #1 Homework\n",
    "\n",
    "> **Solution**: [homework-1.ipynb](homework-1.ipynb).\n",
    "\n",
    "### Set up the environment\n",
    "\n",
    "You need to install Python, NumPy, Pandas, Matplotlib and Seaborn. For that, you can the instructions from [06-environment.md](06-environment.md).\n",
    "\n",
    "\n",
    "## Submit the results\n",
    "\n",
    "Submit your results here: https://forms.gle/aiunQqRtqcay8Wwo9.\n",
    "\n",
    "If your answer doesn't match options exactly, select the closest one.\n",
    "\n",
    "\n",
    "## Deadline\n",
    "\n",
    "The deadline for submitting is 13 September 2021, 17:00 CET. After that, the form will be closed.\n",
    "\n",
    "\n",
    "## Navigation\n",
    "\n",
    "* [Machine Learning Zoomcamp course](../)\n",
    "* [Lesson 1: Introduction to Machine Learning](./)\n",
    "* Previous: [Summary](10-summary.md)\n"
   ]
  },
  {
   "cell_type": "markdown",
   "id": "badb701e-7ae1-4416-9d76-3689f5bc40ef",
   "metadata": {},
   "source": [
    "### Question 1\n",
    "\n",
    "What's the version of NumPy that you installed? \n",
    "\n",
    "You can get the version information using the `__version__` field:\n",
    "\n",
    "```python\n",
    "np.__version__\n",
    "```"
   ]
  },
  {
   "cell_type": "code",
   "execution_count": 2,
   "id": "5f28cc5c-30e3-4be1-ba73-6b8d168d52b9",
   "metadata": {},
   "outputs": [
    {
     "data": {
      "text/plain": [
       "'1.19.5'"
      ]
     },
     "execution_count": 2,
     "metadata": {},
     "output_type": "execute_result"
    }
   ],
   "source": [
    "import numpy as np\n",
    "np.__version__"
   ]
  },
  {
   "cell_type": "markdown",
   "id": "33dcf09b-cd0d-4d56-bb64-619941010e89",
   "metadata": {},
   "source": [
    "### Question 2\n",
    "\n",
    "What's the version of Pandas? \n",
    "\n",
    "\n",
    "### Getting the data \n",
    "\n",
    "For this homework, we'll use the same dataset as for the next session - the car price dataset.\n",
    "\n",
    "Download it from [here](https://raw.githubusercontent.com/alexeygrigorev/mlbookcamp-code/master/chapter-02-car-price/data.csv).\n",
    "\n",
    "You can do it with wget:\n",
    "\n",
    "```bash\n",
    "wget https://raw.githubusercontent.com/alexeygrigorev/mlbookcamp-code/master/chapter-02-car-price/data.csv\n",
    "```\n",
    "\n",
    "Or just open it with your browser and click \"Save as...\".\n",
    "\n",
    "Now read it with Pandas. "
   ]
  },
  {
   "cell_type": "code",
   "execution_count": 3,
   "id": "1ff02970-af81-436b-bbbf-b37b2eedd2e8",
   "metadata": {},
   "outputs": [
    {
     "data": {
      "text/plain": [
       "'1.3.2'"
      ]
     },
     "execution_count": 3,
     "metadata": {},
     "output_type": "execute_result"
    }
   ],
   "source": [
    "import pandas as pd\n",
    "pd.__version__"
   ]
  },
  {
   "cell_type": "code",
   "execution_count": 5,
   "id": "2a0f0679-12f7-4c03-ab45-d8c18701b0c9",
   "metadata": {},
   "outputs": [
    {
     "data": {
      "text/html": [
       "<div>\n",
       "<style scoped>\n",
       "    .dataframe tbody tr th:only-of-type {\n",
       "        vertical-align: middle;\n",
       "    }\n",
       "\n",
       "    .dataframe tbody tr th {\n",
       "        vertical-align: top;\n",
       "    }\n",
       "\n",
       "    .dataframe thead th {\n",
       "        text-align: right;\n",
       "    }\n",
       "</style>\n",
       "<table border=\"1\" class=\"dataframe\">\n",
       "  <thead>\n",
       "    <tr style=\"text-align: right;\">\n",
       "      <th></th>\n",
       "      <th>Make</th>\n",
       "      <th>Model</th>\n",
       "      <th>Year</th>\n",
       "      <th>Engine Fuel Type</th>\n",
       "      <th>Engine HP</th>\n",
       "      <th>Engine Cylinders</th>\n",
       "      <th>Transmission Type</th>\n",
       "      <th>Driven_Wheels</th>\n",
       "      <th>Number of Doors</th>\n",
       "      <th>Market Category</th>\n",
       "      <th>Vehicle Size</th>\n",
       "      <th>Vehicle Style</th>\n",
       "      <th>highway MPG</th>\n",
       "      <th>city mpg</th>\n",
       "      <th>Popularity</th>\n",
       "      <th>MSRP</th>\n",
       "    </tr>\n",
       "  </thead>\n",
       "  <tbody>\n",
       "    <tr>\n",
       "      <th>0</th>\n",
       "      <td>BMW</td>\n",
       "      <td>1 Series M</td>\n",
       "      <td>2011</td>\n",
       "      <td>premium unleaded (required)</td>\n",
       "      <td>335.0</td>\n",
       "      <td>6.0</td>\n",
       "      <td>MANUAL</td>\n",
       "      <td>rear wheel drive</td>\n",
       "      <td>2.0</td>\n",
       "      <td>Factory Tuner,Luxury,High-Performance</td>\n",
       "      <td>Compact</td>\n",
       "      <td>Coupe</td>\n",
       "      <td>26</td>\n",
       "      <td>19</td>\n",
       "      <td>3916</td>\n",
       "      <td>46135</td>\n",
       "    </tr>\n",
       "    <tr>\n",
       "      <th>1</th>\n",
       "      <td>BMW</td>\n",
       "      <td>1 Series</td>\n",
       "      <td>2011</td>\n",
       "      <td>premium unleaded (required)</td>\n",
       "      <td>300.0</td>\n",
       "      <td>6.0</td>\n",
       "      <td>MANUAL</td>\n",
       "      <td>rear wheel drive</td>\n",
       "      <td>2.0</td>\n",
       "      <td>Luxury,Performance</td>\n",
       "      <td>Compact</td>\n",
       "      <td>Convertible</td>\n",
       "      <td>28</td>\n",
       "      <td>19</td>\n",
       "      <td>3916</td>\n",
       "      <td>40650</td>\n",
       "    </tr>\n",
       "    <tr>\n",
       "      <th>2</th>\n",
       "      <td>BMW</td>\n",
       "      <td>1 Series</td>\n",
       "      <td>2011</td>\n",
       "      <td>premium unleaded (required)</td>\n",
       "      <td>300.0</td>\n",
       "      <td>6.0</td>\n",
       "      <td>MANUAL</td>\n",
       "      <td>rear wheel drive</td>\n",
       "      <td>2.0</td>\n",
       "      <td>Luxury,High-Performance</td>\n",
       "      <td>Compact</td>\n",
       "      <td>Coupe</td>\n",
       "      <td>28</td>\n",
       "      <td>20</td>\n",
       "      <td>3916</td>\n",
       "      <td>36350</td>\n",
       "    </tr>\n",
       "    <tr>\n",
       "      <th>3</th>\n",
       "      <td>BMW</td>\n",
       "      <td>1 Series</td>\n",
       "      <td>2011</td>\n",
       "      <td>premium unleaded (required)</td>\n",
       "      <td>230.0</td>\n",
       "      <td>6.0</td>\n",
       "      <td>MANUAL</td>\n",
       "      <td>rear wheel drive</td>\n",
       "      <td>2.0</td>\n",
       "      <td>Luxury,Performance</td>\n",
       "      <td>Compact</td>\n",
       "      <td>Coupe</td>\n",
       "      <td>28</td>\n",
       "      <td>18</td>\n",
       "      <td>3916</td>\n",
       "      <td>29450</td>\n",
       "    </tr>\n",
       "    <tr>\n",
       "      <th>4</th>\n",
       "      <td>BMW</td>\n",
       "      <td>1 Series</td>\n",
       "      <td>2011</td>\n",
       "      <td>premium unleaded (required)</td>\n",
       "      <td>230.0</td>\n",
       "      <td>6.0</td>\n",
       "      <td>MANUAL</td>\n",
       "      <td>rear wheel drive</td>\n",
       "      <td>2.0</td>\n",
       "      <td>Luxury</td>\n",
       "      <td>Compact</td>\n",
       "      <td>Convertible</td>\n",
       "      <td>28</td>\n",
       "      <td>18</td>\n",
       "      <td>3916</td>\n",
       "      <td>34500</td>\n",
       "    </tr>\n",
       "    <tr>\n",
       "      <th>...</th>\n",
       "      <td>...</td>\n",
       "      <td>...</td>\n",
       "      <td>...</td>\n",
       "      <td>...</td>\n",
       "      <td>...</td>\n",
       "      <td>...</td>\n",
       "      <td>...</td>\n",
       "      <td>...</td>\n",
       "      <td>...</td>\n",
       "      <td>...</td>\n",
       "      <td>...</td>\n",
       "      <td>...</td>\n",
       "      <td>...</td>\n",
       "      <td>...</td>\n",
       "      <td>...</td>\n",
       "      <td>...</td>\n",
       "    </tr>\n",
       "    <tr>\n",
       "      <th>11909</th>\n",
       "      <td>Acura</td>\n",
       "      <td>ZDX</td>\n",
       "      <td>2012</td>\n",
       "      <td>premium unleaded (required)</td>\n",
       "      <td>300.0</td>\n",
       "      <td>6.0</td>\n",
       "      <td>AUTOMATIC</td>\n",
       "      <td>all wheel drive</td>\n",
       "      <td>4.0</td>\n",
       "      <td>Crossover,Hatchback,Luxury</td>\n",
       "      <td>Midsize</td>\n",
       "      <td>4dr Hatchback</td>\n",
       "      <td>23</td>\n",
       "      <td>16</td>\n",
       "      <td>204</td>\n",
       "      <td>46120</td>\n",
       "    </tr>\n",
       "    <tr>\n",
       "      <th>11910</th>\n",
       "      <td>Acura</td>\n",
       "      <td>ZDX</td>\n",
       "      <td>2012</td>\n",
       "      <td>premium unleaded (required)</td>\n",
       "      <td>300.0</td>\n",
       "      <td>6.0</td>\n",
       "      <td>AUTOMATIC</td>\n",
       "      <td>all wheel drive</td>\n",
       "      <td>4.0</td>\n",
       "      <td>Crossover,Hatchback,Luxury</td>\n",
       "      <td>Midsize</td>\n",
       "      <td>4dr Hatchback</td>\n",
       "      <td>23</td>\n",
       "      <td>16</td>\n",
       "      <td>204</td>\n",
       "      <td>56670</td>\n",
       "    </tr>\n",
       "    <tr>\n",
       "      <th>11911</th>\n",
       "      <td>Acura</td>\n",
       "      <td>ZDX</td>\n",
       "      <td>2012</td>\n",
       "      <td>premium unleaded (required)</td>\n",
       "      <td>300.0</td>\n",
       "      <td>6.0</td>\n",
       "      <td>AUTOMATIC</td>\n",
       "      <td>all wheel drive</td>\n",
       "      <td>4.0</td>\n",
       "      <td>Crossover,Hatchback,Luxury</td>\n",
       "      <td>Midsize</td>\n",
       "      <td>4dr Hatchback</td>\n",
       "      <td>23</td>\n",
       "      <td>16</td>\n",
       "      <td>204</td>\n",
       "      <td>50620</td>\n",
       "    </tr>\n",
       "    <tr>\n",
       "      <th>11912</th>\n",
       "      <td>Acura</td>\n",
       "      <td>ZDX</td>\n",
       "      <td>2013</td>\n",
       "      <td>premium unleaded (recommended)</td>\n",
       "      <td>300.0</td>\n",
       "      <td>6.0</td>\n",
       "      <td>AUTOMATIC</td>\n",
       "      <td>all wheel drive</td>\n",
       "      <td>4.0</td>\n",
       "      <td>Crossover,Hatchback,Luxury</td>\n",
       "      <td>Midsize</td>\n",
       "      <td>4dr Hatchback</td>\n",
       "      <td>23</td>\n",
       "      <td>16</td>\n",
       "      <td>204</td>\n",
       "      <td>50920</td>\n",
       "    </tr>\n",
       "    <tr>\n",
       "      <th>11913</th>\n",
       "      <td>Lincoln</td>\n",
       "      <td>Zephyr</td>\n",
       "      <td>2006</td>\n",
       "      <td>regular unleaded</td>\n",
       "      <td>221.0</td>\n",
       "      <td>6.0</td>\n",
       "      <td>AUTOMATIC</td>\n",
       "      <td>front wheel drive</td>\n",
       "      <td>4.0</td>\n",
       "      <td>Luxury</td>\n",
       "      <td>Midsize</td>\n",
       "      <td>Sedan</td>\n",
       "      <td>26</td>\n",
       "      <td>17</td>\n",
       "      <td>61</td>\n",
       "      <td>28995</td>\n",
       "    </tr>\n",
       "  </tbody>\n",
       "</table>\n",
       "<p>11914 rows × 16 columns</p>\n",
       "</div>"
      ],
      "text/plain": [
       "          Make       Model  Year                Engine Fuel Type  Engine HP  \\\n",
       "0          BMW  1 Series M  2011     premium unleaded (required)      335.0   \n",
       "1          BMW    1 Series  2011     premium unleaded (required)      300.0   \n",
       "2          BMW    1 Series  2011     premium unleaded (required)      300.0   \n",
       "3          BMW    1 Series  2011     premium unleaded (required)      230.0   \n",
       "4          BMW    1 Series  2011     premium unleaded (required)      230.0   \n",
       "...        ...         ...   ...                             ...        ...   \n",
       "11909    Acura         ZDX  2012     premium unleaded (required)      300.0   \n",
       "11910    Acura         ZDX  2012     premium unleaded (required)      300.0   \n",
       "11911    Acura         ZDX  2012     premium unleaded (required)      300.0   \n",
       "11912    Acura         ZDX  2013  premium unleaded (recommended)      300.0   \n",
       "11913  Lincoln      Zephyr  2006                regular unleaded      221.0   \n",
       "\n",
       "       Engine Cylinders Transmission Type      Driven_Wheels  Number of Doors  \\\n",
       "0                   6.0            MANUAL   rear wheel drive              2.0   \n",
       "1                   6.0            MANUAL   rear wheel drive              2.0   \n",
       "2                   6.0            MANUAL   rear wheel drive              2.0   \n",
       "3                   6.0            MANUAL   rear wheel drive              2.0   \n",
       "4                   6.0            MANUAL   rear wheel drive              2.0   \n",
       "...                 ...               ...                ...              ...   \n",
       "11909               6.0         AUTOMATIC    all wheel drive              4.0   \n",
       "11910               6.0         AUTOMATIC    all wheel drive              4.0   \n",
       "11911               6.0         AUTOMATIC    all wheel drive              4.0   \n",
       "11912               6.0         AUTOMATIC    all wheel drive              4.0   \n",
       "11913               6.0         AUTOMATIC  front wheel drive              4.0   \n",
       "\n",
       "                             Market Category Vehicle Size  Vehicle Style  \\\n",
       "0      Factory Tuner,Luxury,High-Performance      Compact          Coupe   \n",
       "1                         Luxury,Performance      Compact    Convertible   \n",
       "2                    Luxury,High-Performance      Compact          Coupe   \n",
       "3                         Luxury,Performance      Compact          Coupe   \n",
       "4                                     Luxury      Compact    Convertible   \n",
       "...                                      ...          ...            ...   \n",
       "11909             Crossover,Hatchback,Luxury      Midsize  4dr Hatchback   \n",
       "11910             Crossover,Hatchback,Luxury      Midsize  4dr Hatchback   \n",
       "11911             Crossover,Hatchback,Luxury      Midsize  4dr Hatchback   \n",
       "11912             Crossover,Hatchback,Luxury      Midsize  4dr Hatchback   \n",
       "11913                                 Luxury      Midsize          Sedan   \n",
       "\n",
       "       highway MPG  city mpg  Popularity   MSRP  \n",
       "0               26        19        3916  46135  \n",
       "1               28        19        3916  40650  \n",
       "2               28        20        3916  36350  \n",
       "3               28        18        3916  29450  \n",
       "4               28        18        3916  34500  \n",
       "...            ...       ...         ...    ...  \n",
       "11909           23        16         204  46120  \n",
       "11910           23        16         204  56670  \n",
       "11911           23        16         204  50620  \n",
       "11912           23        16         204  50920  \n",
       "11913           26        17          61  28995  \n",
       "\n",
       "[11914 rows x 16 columns]"
      ]
     },
     "execution_count": 5,
     "metadata": {},
     "output_type": "execute_result"
    }
   ],
   "source": [
    "data = pd.read_csv('data.csv')\n",
    "data"
   ]
  },
  {
   "cell_type": "markdown",
   "id": "00f2be6c-bf86-4f2c-bcaf-82f2eb8de9fd",
   "metadata": {},
   "source": [
    "### Question 3\n",
    "\n",
    "What's the average price of BMW cars in the dataset?"
   ]
  },
  {
   "cell_type": "code",
   "execution_count": 14,
   "id": "e821049c-7a9c-44cd-8bbf-d55cf86a12d0",
   "metadata": {},
   "outputs": [
    {
     "data": {
      "text/plain": [
       "61546.76347305389"
      ]
     },
     "execution_count": 14,
     "metadata": {},
     "output_type": "execute_result"
    }
   ],
   "source": [
    "data[data.Make == 'BMW'].MSRP.mean()"
   ]
  },
  {
   "cell_type": "markdown",
   "id": "a76886f4-b5b2-42d6-821a-a95066bba6b6",
   "metadata": {},
   "source": [
    "### Question 4\n",
    "\n",
    "Select a subset of cars after year 2015 (inclusive, i.e. 2015 and after). How many of them have missing values for Engine HP?"
   ]
  },
  {
   "cell_type": "code",
   "execution_count": 20,
   "id": "1d35208c-5bd2-473a-83cd-fcaaf29dd5eb",
   "metadata": {},
   "outputs": [
    {
     "data": {
      "text/plain": [
       "51"
      ]
     },
     "execution_count": 20,
     "metadata": {},
     "output_type": "execute_result"
    }
   ],
   "source": [
    "subset = data[data['Year'] >= 2015]\n",
    "subset['Engine HP'].isnull().sum()"
   ]
  },
  {
   "cell_type": "markdown",
   "id": "446f8644-78e9-4cf1-9930-b93628d16cae",
   "metadata": {},
   "source": [
    "### Question 5\n",
    "\n",
    "* Calculate the average \"Engine HP\" in the dataset. \n",
    "* Use the `fillna` method and to fill the missing values in \"Engine HP\" with the mean value from the previous step. \n",
    "* Now, calcualte the average of \"Engine HP\" again.\n",
    "* Has it changed? \n",
    "\n",
    "Round both means before answering this questions. You can use the `round` function for that:\n",
    "\n",
    "```python\n",
    "print(round(mean_hp_before))\n",
    "print(round(mean_hp_after))\n",
    "```\n"
   ]
  },
  {
   "cell_type": "code",
   "execution_count": 35,
   "id": "37a9f43a-c927-40ea-a987-70197e8914d0",
   "metadata": {},
   "outputs": [
    {
     "name": "stdout",
     "output_type": "stream",
     "text": [
      "249\n"
     ]
    }
   ],
   "source": [
    "mean_hp_before = data['Engine HP'].mean()\n",
    "print(round(mean_hp_before))"
   ]
  },
  {
   "cell_type": "code",
   "execution_count": 37,
   "id": "e049f09d-4439-4b0b-b552-85bf10d4e0c0",
   "metadata": {},
   "outputs": [],
   "source": [
    "data['Engine HP'].fillna(value=mean_hp_before, inplace=True)"
   ]
  },
  {
   "cell_type": "code",
   "execution_count": 62,
   "id": "03ffc014-fbe2-4043-a4d5-917f11425f00",
   "metadata": {},
   "outputs": [
    {
     "name": "stdout",
     "output_type": "stream",
     "text": [
      "249\n",
      "No change!\n"
     ]
    }
   ],
   "source": [
    "mean_hp_after = data['Engine HP'].mean()\n",
    "print(round(mean_hp_after))\n",
    "print('No change!')"
   ]
  },
  {
   "cell_type": "markdown",
   "id": "61dd14ac-b4b1-4112-a551-065e68d0c657",
   "metadata": {},
   "source": [
    "### Question 6\n",
    "\n",
    "* Select all the \"Rolls-Royce\" cars from the dataset.\n",
    "* Select only columns \"Engine HP\", \"Engine Cylinders\", \"highway MPG\".\n",
    "* Now drop all duplicated rows using `drop_duplicates` method (you should get a dataframe with 7 rows).\n",
    "* Get the underlying NumPy array. Let's call it `X`.\n",
    "* Compute matrix-matrix multiplication between the transpose of `X` and `X`. To get the transpose, use `X.T`. Let's call the result `XTX`.\n",
    "* Invert `XTX`.\n",
    "* What's the sum of all the elements of the result?\n",
    "\n",
    "Hint: if the result is negative, re-read the task one more time\n"
   ]
  },
  {
   "cell_type": "code",
   "execution_count": 48,
   "id": "a89d89bf-8587-44da-87ef-374c79f0a93b",
   "metadata": {},
   "outputs": [
    {
     "data": {
      "text/html": [
       "<div>\n",
       "<style scoped>\n",
       "    .dataframe tbody tr th:only-of-type {\n",
       "        vertical-align: middle;\n",
       "    }\n",
       "\n",
       "    .dataframe tbody tr th {\n",
       "        vertical-align: top;\n",
       "    }\n",
       "\n",
       "    .dataframe thead th {\n",
       "        text-align: right;\n",
       "    }\n",
       "</style>\n",
       "<table border=\"1\" class=\"dataframe\">\n",
       "  <thead>\n",
       "    <tr style=\"text-align: right;\">\n",
       "      <th></th>\n",
       "      <th>Engine HP</th>\n",
       "      <th>Engine Cylinders</th>\n",
       "      <th>highway MPG</th>\n",
       "    </tr>\n",
       "  </thead>\n",
       "  <tbody>\n",
       "    <tr>\n",
       "      <th>2921</th>\n",
       "      <td>325.0</td>\n",
       "      <td>8.0</td>\n",
       "      <td>15</td>\n",
       "    </tr>\n",
       "    <tr>\n",
       "      <th>3505</th>\n",
       "      <td>563.0</td>\n",
       "      <td>12.0</td>\n",
       "      <td>19</td>\n",
       "    </tr>\n",
       "    <tr>\n",
       "      <th>5275</th>\n",
       "      <td>563.0</td>\n",
       "      <td>12.0</td>\n",
       "      <td>21</td>\n",
       "    </tr>\n",
       "    <tr>\n",
       "      <th>5279</th>\n",
       "      <td>563.0</td>\n",
       "      <td>12.0</td>\n",
       "      <td>20</td>\n",
       "    </tr>\n",
       "    <tr>\n",
       "      <th>7443</th>\n",
       "      <td>322.0</td>\n",
       "      <td>12.0</td>\n",
       "      <td>15</td>\n",
       "    </tr>\n",
       "    <tr>\n",
       "      <th>7553</th>\n",
       "      <td>453.0</td>\n",
       "      <td>12.0</td>\n",
       "      <td>19</td>\n",
       "    </tr>\n",
       "    <tr>\n",
       "      <th>11448</th>\n",
       "      <td>624.0</td>\n",
       "      <td>12.0</td>\n",
       "      <td>21</td>\n",
       "    </tr>\n",
       "  </tbody>\n",
       "</table>\n",
       "</div>"
      ],
      "text/plain": [
       "       Engine HP  Engine Cylinders  highway MPG\n",
       "2921       325.0               8.0           15\n",
       "3505       563.0              12.0           19\n",
       "5275       563.0              12.0           21\n",
       "5279       563.0              12.0           20\n",
       "7443       322.0              12.0           15\n",
       "7553       453.0              12.0           19\n",
       "11448      624.0              12.0           21"
      ]
     },
     "execution_count": 48,
     "metadata": {},
     "output_type": "execute_result"
    }
   ],
   "source": [
    "droped = data[data['Make'] == 'Rolls-Royce'][[\"Engine HP\", \"Engine Cylinders\", \"highway MPG\"]].drop_duplicates()\n",
    "droped"
   ]
  },
  {
   "cell_type": "code",
   "execution_count": 51,
   "id": "b0999033-f46a-49d4-b296-844828f2a3b7",
   "metadata": {},
   "outputs": [
    {
     "data": {
      "text/plain": [
       "array([[325.,   8.,  15.],\n",
       "       [563.,  12.,  19.],\n",
       "       [563.,  12.,  21.],\n",
       "       [563.,  12.,  20.],\n",
       "       [322.,  12.,  15.],\n",
       "       [453.,  12.,  19.],\n",
       "       [624.,  12.,  21.]])"
      ]
     },
     "execution_count": 51,
     "metadata": {},
     "output_type": "execute_result"
    }
   ],
   "source": [
    "X = np.array(droped)\n",
    "X"
   ]
  },
  {
   "cell_type": "code",
   "execution_count": 54,
   "id": "1e236984-9f09-4de9-84a0-4f09b014e541",
   "metadata": {},
   "outputs": [
    {
     "data": {
      "text/plain": [
       "array([[1.754801e+06, 3.965600e+04, 6.519600e+04],\n",
       "       [3.965600e+04, 9.280000e+02, 1.500000e+03],\n",
       "       [6.519600e+04, 1.500000e+03, 2.454000e+03]])"
      ]
     },
     "execution_count": 54,
     "metadata": {},
     "output_type": "execute_result"
    }
   ],
   "source": [
    "XTX = X.T.dot(X)\n",
    "XTX"
   ]
  },
  {
   "cell_type": "code",
   "execution_count": 55,
   "id": "db3f313e-ef8a-43a6-a6fa-d3c6c2411415",
   "metadata": {},
   "outputs": [
    {
     "data": {
      "text/plain": [
       "array([[ 5.17815728e-05,  9.06587044e-04, -1.92984188e-03],\n",
       "       [ 9.06587044e-04,  1.05723058e-01, -8.87084092e-02],\n",
       "       [-1.92984188e-03, -8.87084092e-02,  1.05900809e-01]])"
      ]
     },
     "execution_count": 55,
     "metadata": {},
     "output_type": "execute_result"
    }
   ],
   "source": [
    "XTX_inv = np.linalg.inv(XTX)\n",
    "XTX_inv"
   ]
  },
  {
   "cell_type": "code",
   "execution_count": 56,
   "id": "eaf0790b-3039-4b4f-b579-b77cc5c6f74f",
   "metadata": {},
   "outputs": [
    {
     "data": {
      "text/plain": [
       "0.032212320677486125"
      ]
     },
     "execution_count": 56,
     "metadata": {},
     "output_type": "execute_result"
    }
   ],
   "source": [
    "XTX_inv.sum()"
   ]
  },
  {
   "cell_type": "markdown",
   "id": "10c652b2-c16c-4587-b93c-776b8b61cf1b",
   "metadata": {},
   "source": [
    "### Questions 7 \n",
    "\n",
    "* Create an array `y` with values `[1000, 1100, 900, 1200, 1000, 850, 1300]`.\n",
    "* Multiply the inverse of `XTX` with the transpose of `X`, and then multiply the result by `y`. Call the result `w`.\n",
    "* What's the value of the first element of `w`?.\n",
    "\n",
    "> **Note**: You just implemented linear regression. We'll talk about it in the next lesson."
   ]
  },
  {
   "cell_type": "code",
   "execution_count": 57,
   "id": "65107dfa-02f9-47ce-8230-5cb840c44460",
   "metadata": {},
   "outputs": [
    {
     "data": {
      "text/plain": [
       "array([1000, 1100,  900, 1200, 1000,  850, 1300])"
      ]
     },
     "execution_count": 57,
     "metadata": {},
     "output_type": "execute_result"
    }
   ],
   "source": [
    "y = np.array([1000, 1100, 900, 1200, 1000, 850, 1300])\n",
    "y"
   ]
  },
  {
   "cell_type": "code",
   "execution_count": 60,
   "id": "16d240d8-2fca-4512-8772-43f1625a5f3b",
   "metadata": {},
   "outputs": [
    {
     "data": {
      "text/plain": [
       "array([ 0.19989598, 31.02612262, 31.65378877])"
      ]
     },
     "execution_count": 60,
     "metadata": {},
     "output_type": "execute_result"
    }
   ],
   "source": [
    "temp = XTX_inv.dot(X.T)\n",
    "w = temp.dot(y)\n",
    "w"
   ]
  },
  {
   "cell_type": "code",
   "execution_count": 61,
   "id": "da98fd3d-c2d3-41ad-8424-0383c5c87531",
   "metadata": {},
   "outputs": [
    {
     "data": {
      "text/plain": [
       "0.19989598183188978"
      ]
     },
     "execution_count": 61,
     "metadata": {},
     "output_type": "execute_result"
    }
   ],
   "source": [
    "w[0]"
   ]
  },
  {
   "cell_type": "code",
   "execution_count": null,
   "id": "611fb8be-b534-4416-98f3-27fcacd3df6c",
   "metadata": {},
   "outputs": [],
   "source": []
  }
 ],
 "metadata": {
  "kernelspec": {
   "display_name": "Python 3 (ipykernel)",
   "language": "python",
   "name": "python3"
  },
  "language_info": {
   "codemirror_mode": {
    "name": "ipython",
    "version": 3
   },
   "file_extension": ".py",
   "mimetype": "text/x-python",
   "name": "python",
   "nbconvert_exporter": "python",
   "pygments_lexer": "ipython3",
   "version": "3.9.6"
  }
 },
 "nbformat": 4,
 "nbformat_minor": 5
}
